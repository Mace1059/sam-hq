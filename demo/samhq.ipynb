{
 "cells": [
  {
   "cell_type": "code",
   "execution_count": 40,
   "metadata": {},
   "outputs": [],
   "source": [
    "from segment_anything import SamPredictor, sam_model_registry\n",
    "import sys\n",
    "import os\n",
    "from segment_anything import SamPredictor, sam_model_registry\n",
    "from PIL import Image\n",
    "import cv2\n",
    "\n",
    "import numpy as np \n",
    "\n",
    "sys.path.append(\"../sam-hq\")\n",
    "\n",
    "import demo_hqsam_light\n",
    "\n",
    "def run_hq(point, image_dir, output_file):\n",
    "    sam = sam_model_registry[\"vit_tiny\"](checkpoint=\"../pretrained_checkpoint/sam_hq_vit_tiny.pth\")\n",
    "\n",
    "    device = \"cuda\"\n",
    "    sam.to(device=device)\n",
    "    sam.eval()\n",
    "    predictor = SamPredictor(sam)\n",
    "\n",
    "\n",
    "    image = cv2.imread(image_dir)\n",
    "    image = cv2.cvtColor(image, cv2.COLOR_BGR2RGB)\n",
    "    predictor.set_image(image)\n",
    "    # hq_token_only: False means use hq output to correct SAM output. \n",
    "    #                True means use hq output only. \n",
    "    #                Default: False\n",
    "    hq_token_only = False \n",
    "    # To achieve best visualization effect, for images contain multiple objects (like typical coco images), we suggest to set hq_token_only=False\n",
    "    # For images contain single object, we suggest to set hq_token_only = True\n",
    "    # For quantiative evaluation on COCO/YTVOS/DAVIS/UVO/LVIS etc., we set hq_token_only = False\n",
    "\n",
    "    # box prompt\n",
    "    print(np.shape(image))\n",
    "    input_point = np.array([point])\n",
    "    input_label = np.ones(input_point.shape[0])\n",
    "\n",
    "    masks, scores, logits = predictor.predict(\n",
    "        point_coords=input_point,\n",
    "        point_labels=input_label,\n",
    "        box = None,\n",
    "        multimask_output=False,\n",
    "        hq_token_only=hq_token_only, \n",
    "    )\n",
    "    result_path = './results/'\n",
    "    os.makedirs(result_path, exist_ok=True)\n",
    "    demo_hqsam_light.show_res(masks,scores,input_point, input_label, None, result_path + output_file, image)"
   ]
  },
  {
   "cell_type": "code",
   "execution_count": 41,
   "metadata": {},
   "outputs": [
    {
     "name": "stderr",
     "output_type": "stream",
     "text": [
      "c:\\users\\jmacy\\websites\\cs89.32\\sam-hq\\segment_anything\\build_sam.py:93: FutureWarning: You are using `torch.load` with `weights_only=False` (the current default value), which uses the default pickle module implicitly. It is possible to construct malicious pickle data which will execute arbitrary code during unpickling (See https://github.com/pytorch/pytorch/blob/main/SECURITY.md#untrusted-models for more details). In a future release, the default value for `weights_only` will be flipped to `True`. This limits the functions that could be executed during unpickling. Arbitrary objects will no longer be allowed to be loaded via this mode unless they are explicitly allowlisted by the user via `torch.serialization.add_safe_globals`. We recommend you start setting `weights_only=True` for any use case where you don't have full control of the loaded file. Please open an issue on GitHub for any issues related to this experimental feature.\n",
      "  state_dict = torch.load(f, map_location=device)\n"
     ]
    },
    {
     "name": "stdout",
     "output_type": "stream",
     "text": [
      "<All keys matched successfully>\n",
      "(824, 1100, 3)\n",
      "Score: 0.984\n",
      "<All keys matched successfully>\n",
      "(238, 400, 3)\n",
      "Score: 0.934\n"
     ]
    }
   ],
   "source": [
    "run_hq([400, 600], \"../squirrel.jpg\", \"squirrel\")\n",
    "run_hq([100, 100], \"../legos.jpg\", \"lego\")"
   ]
  }
 ],
 "metadata": {
  "kernelspec": {
   "display_name": "samhq",
   "language": "python",
   "name": "python3"
  },
  "language_info": {
   "codemirror_mode": {
    "name": "ipython",
    "version": 3
   },
   "file_extension": ".py",
   "mimetype": "text/x-python",
   "name": "python",
   "nbconvert_exporter": "python",
   "pygments_lexer": "ipython3",
   "version": "3.10.0"
  }
 },
 "nbformat": 4,
 "nbformat_minor": 2
}
